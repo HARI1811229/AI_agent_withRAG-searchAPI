{
  "nbformat": 4,
  "nbformat_minor": 0,
  "metadata": {
    "colab": {
      "provenance": []
    },
    "kernelspec": {
      "name": "python3",
      "display_name": "Python 3"
    },
    "language_info": {
      "name": "python"
    }
  },
  "cells": [
    {
      "cell_type": "code",
      "execution_count": 102,
      "metadata": {
        "id": "MPsksoRYJwMf"
      },
      "outputs": [],
      "source": [
        "# !pip install -U langchain_community langchain-groq langchainhub langchain langgraph langchain_huggingface pypdf tiktoken faiss-gpu duckduckgo-search"
      ]
    },
    {
      "cell_type": "code",
      "source": [
        "from langchain.text_splitter import RecursiveCharacterTextSplitter\n",
        "from langchain.document_loaders import PyPDFLoader\n",
        "from langchain.embeddings import HuggingFaceEmbeddings\n",
        "from langchain.vectorstores import FAISS\n",
        "from langchain.chains import RetrievalQA\n"
      ],
      "metadata": {
        "id": "ZyN13zBrBi59"
      },
      "execution_count": 103,
      "outputs": []
    },
    {
      "cell_type": "code",
      "source": [
        "pdf_path = r\"/content/AI-based startups in India.pdf\"\n",
        "loader = PyPDFLoader(pdf_path)\n",
        "docs = loader.load()"
      ],
      "metadata": {
        "id": "kEzSWe7cEN50"
      },
      "execution_count": 104,
      "outputs": []
    },
    {
      "cell_type": "code",
      "source": [
        "text_splitter = RecursiveCharacterTextSplitter.from_tiktoken_encoder(\n",
        "    chunk_size=500, chunk_overlap=0\n",
        ")\n",
        "doc_splits = text_splitter.split_documents(docs)\n"
      ],
      "metadata": {
        "id": "Xr-DCXsgEX0o"
      },
      "execution_count": 105,
      "outputs": []
    },
    {
      "cell_type": "code",
      "source": [
        "embeddings = HuggingFaceEmbeddings(model_name=\"all-MiniLM-L6-v2\")\n",
        "faiss_db = FAISS.from_documents(doc_splits, embeddings)\n",
        "faiss_db.save_local(\"faiss_index\")\n",
        "retriever = faiss_db.as_retriever()"
      ],
      "metadata": {
        "id": "35Jy43o2Evli"
      },
      "execution_count": 106,
      "outputs": []
    },
    {
      "cell_type": "code",
      "source": [
        "# query = \"what is External Martian Economy?\"\n",
        "# results = retriever.get_relevant_documents(query)\n",
        "# print(\"\\nRetrieved Documents:\")\n",
        "# for result in results:\n",
        "#     print(result.page_content)"
      ],
      "metadata": {
        "id": "BA0FSM2MFGlQ"
      },
      "execution_count": 107,
      "outputs": []
    },
    {
      "cell_type": "code",
      "source": [
        "from typing import TypedDict, Annotated, List, Union\n",
        "from langchain_core.agents import AgentAction, AgentFinish\n",
        "from langchain_core.messages import BaseMessage\n",
        "import operator\n",
        "\n",
        "\n",
        "class AgentState(TypedDict):\n",
        "    input: str\n",
        "    chat_history: list[BaseMessage]\n",
        "    intermediate_steps: Annotated[list[tuple[AgentAction, str]], operator.add]"
      ],
      "metadata": {
        "id": "av9XRD3VJlHH"
      },
      "execution_count": 108,
      "outputs": []
    },
    {
      "cell_type": "code",
      "source": [
        "from langchain.tools import DuckDuckGoSearchRun  # Import the DuckDuckGo search tool from LangChain\n",
        "duckduckgo_search = DuckDuckGoSearchRun()  # Initialize the DuckDuckGo search tool\n",
        "from langchain.schema import Document  # Import the Document class for structuring search results\n",
        "from langchain_core.tools import tool  # Import the tool decorator for registering custom tools\n",
        "\n",
        "@tool(\"web_search\")  # Register the function as a tool named \"web_search\"\n",
        "def web_search(query: str):\n",
        "    \"\"\"\n",
        "    Finds general knowledge information using DuckDuckGo search.\n",
        "    Can also be used to augment more 'general' knowledge to a previous specialist query.\n",
        "    \"\"\"\n",
        "    docs = duckduckgo_search.invoke({\"query\": query})  # Execute the search query using DuckDuckGo\n",
        "    duck_duck_results = docs  # Assign the search results to a variable\n",
        "    duck_duck_results = Document(page_content=duck_duck_results)  # Convert the results into a Document object\n",
        "    if not duck_duck_results:  # Check if any results were found\n",
        "        return \"No results found.\"  # Return a message if no results are found\n",
        "    contexts = duck_duck_results  # Assign the Document object to a variable named 'contexts'\n",
        "    return contexts  # Return the search results as a Document object"
      ],
      "metadata": {
        "id": "CC_JyEjpJyzW"
      },
      "execution_count": 109,
      "outputs": []
    },
    {
      "cell_type": "code",
      "source": [
        "@tool(\"rag_search\")  # Register the function as a tool named \"rag_search\"\n",
        "def rag_search(query: str):\n",
        "    \"\"\"\n",
        "    Use this tool when you want to know everything about AI-based startups in India.\n",
        "    \"\"\"\n",
        "    documents = retriever.get_relevant_documents(query)  # Retrieve relevant documents using the 'retriever' object\n",
        "    # Return only the top 3 documents\n",
        "    top_documents = documents[:3]  # Select the top 3 most relevant documents\n",
        "    return [doc.page_content for doc in top_documents]  # Return the content of the top 3 documents as a list"
      ],
      "metadata": {
        "id": "HMc3UxTpL-xd"
      },
      "execution_count": 110,
      "outputs": []
    },
    {
      "cell_type": "code",
      "source": [
        "@tool(\"final_answer\")  # Register the function as a tool named \"final_answer\"\n",
        "def final_answer(\n",
        "    query: str,\n",
        "    steps: str,\n",
        "    conclusion: str,\n",
        "    sources: str\n",
        "):\n",
        "    \"\"\"\n",
        "    Returns a natural language response to the user.\n",
        "    There are several sections to this report, those are:\n",
        "    - `query`: the user's question\n",
        "    - `steps`: a few bullet points explaining the steps that were taken\n",
        "      to research your report.\n",
        "    - `conclusion`: this is a short single paragraph conclusion providing a\n",
        "      concise but sophisticated view on what was found.\n",
        "    - `sources`: a bulletpoint list provided detailed sources for all information\n",
        "      referenced during the research process\n",
        "    \"\"\"\n",
        "    if type(steps) is list:  # Check if 'steps' is a list\n",
        "        steps = \"\\n\".join([f\"- {r}\" for r in steps])  # Convert the list of steps into a bullet-point string\n",
        "    if type(sources) is list:  # Check if 'sources' is a list\n",
        "        sources = \"\\n\".join([f\"- {s}\" for s in sources])  # Convert the list of sources into a bullet-point string\n",
        "    return \"\"  # Return an empty string (placeholder for the final answer)"
      ],
      "metadata": {
        "id": "NU5i9scSNCqa"
      },
      "execution_count": 111,
      "outputs": []
    },
    {
      "cell_type": "code",
      "source": [
        "from langchain_core.prompts import ChatPromptTemplate, MessagesPlaceholder\n",
        "\n",
        "system_prompt = \"\"\"You are the inteligent oracle, the great decision maker.\n",
        "Given the user's query you must decide what to do with it based on the\n",
        "list of tools provided to you by splitting the given query into multiple sub queries if needed and by passing the correct input to the tools.\n",
        "\n",
        "If you see that a tool has been used (in the scratchpad) with a particular\n",
        "query, do NOT use that same tool with the same query again. Also, do NOT use\n",
        "any tool more than twice (ie, if the tool appears in the scratchpad twice, do\n",
        "not use it again).\n",
        "\n",
        "You should aim to collect information from a diverse range of sources before\n",
        "providing the answer to the user. Once you have collected plenty of information\n",
        "to answer the user's question (stored in the scratchpad) use the final_answer\n",
        "tool.\"\"\"\n",
        "\n",
        "prompt = ChatPromptTemplate.from_messages([\n",
        "    (\"system\", system_prompt),\n",
        "    MessagesPlaceholder(variable_name=\"chat_history\"),\n",
        "    (\"user\", \"{input}\"),\n",
        "    (\"assistant\", \"scratchpad: {scratchpad}\"),\n",
        "])"
      ],
      "metadata": {
        "id": "YALlugcmNiOM"
      },
      "execution_count": 112,
      "outputs": []
    },
    {
      "cell_type": "code",
      "source": [
        "import os  # Import the os module for environment variable manipulation\n",
        "from google.colab import userdata  # Import userdata for accessing user-specific data in Colab\n",
        "from langchain_groq import ChatGroq  # Import the ChatGroq class for using Groq's language model\n",
        "groq_api_key = userdata.get('groq_api_key')  # Retrieve the Groq API key from user data\n",
        "os.environ[\"GROQ_API_KEY\"] = groq_api_key  # Set the Groq API key as an environment variable\n",
        "llm = ChatGroq(groq_api_key=groq_api_key, model_name=\"Llama-3.1-70b-Versatile\")  # Initialize the Groq language model\n",
        "\n",
        "tools = [  # Define a list of tools available to the agent\n",
        "    rag_search,  # Tool for RAG-based search\n",
        "    web_search,  # Tool for web search\n",
        "    final_answer  # Tool for generating the final answer\n",
        "]\n",
        "\n",
        "def create_scratchpad(intermediate_steps: list[AgentAction]):\n",
        "    \"\"\"\n",
        "    Creates a formatted scratchpad containing the intermediate steps taken by the agent.\n",
        "\n",
        "    Args:\n",
        "        intermediate_steps (list[AgentAction]): A list of AgentAction objects representing the steps.\n",
        "\n",
        "    Returns:\n",
        "        str: A formatted string representing the scratchpad.\n",
        "    \"\"\"\n",
        "    steps = []  # Initialize an empty list to store the formatted steps\n",
        "    for i, action in enumerate(intermediate_steps):  # Iterate through the intermediate steps\n",
        "        if action.log != \"TBD\":  # Check if the action has a log (not \"TBD\")\n",
        "            steps.append(  # Append the formatted step to the list\n",
        "                f\"Tool: {action.tool}, input: {action.tool_input}\\n\"  # Format the tool name and input\n",
        "                f\"Output: {action.log}\"  # Format the tool's output\n",
        "            )\n",
        "    return \"\\n---\\n\".join(steps)  # Join the steps with separators to create the scratchpad\n",
        "\n",
        "oracle = (\n",
        "    {\n",
        "        \"input\": lambda x: x[\"input\"],  # Extract the user's input from the state\n",
        "        \"chat_history\": lambda x: x[\"chat_history\"],  # Extract the chat history from the state\n",
        "        \"scratchpad\": lambda x: create_scratchpad(  # Create the scratchpad using intermediate steps\n",
        "            intermediate_steps=x[\"intermediate_steps\"]\n",
        "        ),\n",
        "    }\n",
        "    | prompt  # Pass the extracted data to the prompt template\n",
        "    | llm.bind_tools(tools, tool_choice=\"any\")  # Bind the tools to the language model\n",
        ")"
      ],
      "metadata": {
        "id": "M_vsHFzpOHrQ"
      },
      "execution_count": 113,
      "outputs": []
    },
    {
      "cell_type": "code",
      "source": [
        "# inputs = {\n",
        "#     \"input\": \"when did the indo-pakistan war started?\",\n",
        "#     \"chat_history\": [],\n",
        "#     \"intermediate_steps\": [],\n",
        "# }\n",
        "# out = oracle.invoke(inputs)\n",
        "# out"
      ],
      "metadata": {
        "id": "URxp1CemO4Ra"
      },
      "execution_count": 114,
      "outputs": []
    },
    {
      "cell_type": "code",
      "source": [
        "def run_oracle(state: list):\n",
        "    \"\"\"\n",
        "    Executes the oracle function within the agent's workflow.\n",
        "\n",
        "    This function is a core component of the agent's decision-making process.\n",
        "    It takes the current state of the agent as input and invokes the oracle\n",
        "    function to determine the next action to be taken.\n",
        "\n",
        "    Args:\n",
        "        state (list): The current state of the agent, containing information\n",
        "            such as the user's input, chat history, and intermediate steps.\n",
        "\n",
        "    Returns:\n",
        "        dict: A dictionary containing the updated intermediate steps,\n",
        "            reflecting the action chosen by the oracle.\n",
        "    \"\"\"\n",
        "    print(\"run_oracle\")  # Print a message indicating the start of the oracle execution\n",
        "    print(f\"intermediate_steps: {state['intermediate_steps']}\")  # Print the current intermediate steps\n",
        "    out = oracle.invoke(state)  # Invoke the oracle function with the current state\n",
        "    tool_name = out.tool_calls[0][\"name\"]  # Extract the name of the chosen tool from the oracle's output\n",
        "    tool_args = out.tool_calls[0][\"args\"]  # Extract the arguments for the chosen tool\n",
        "    action_out = AgentAction(  # Create an AgentAction object representing the chosen action\n",
        "        tool=tool_name,  # Set the tool name\n",
        "        tool_input=tool_args,  # Set the tool arguments\n",
        "        log=\"TBD\"  # Set the log to \"TBD\" (to be determined later)\n",
        "    )\n",
        "    return {  # Return a dictionary containing the updated intermediate steps\n",
        "        \"intermediate_steps\": [action_out]  # Add the new AgentAction to the list of intermediate steps\n",
        "    }\n",
        "\n",
        "def router(state: list):\n",
        "    \"\"\"\n",
        "    Determines the next tool to be executed based on the agent's state.\n",
        "\n",
        "    This function acts as a routing mechanism within the agent's workflow.\n",
        "    It examines the current state of the agent, particularly the intermediate\n",
        "    steps taken, and decides which tool should be executed next.\n",
        "\n",
        "    Args:\n",
        "        state (list): The current state of the agent, containing information\n",
        "            such as the user's input, chat history, and intermediate steps.\n",
        "\n",
        "    Returns:\n",
        "        str: The name of the tool to be executed next.\n",
        "    \"\"\"\n",
        "    if isinstance(state[\"intermediate_steps\"], list):  # Check if intermediate_steps is a list\n",
        "        return state[\"intermediate_steps\"][-1].tool  # Return the tool name from the last AgentAction\n",
        "    else:  # If intermediate_steps is not a list (invalid format)\n",
        "        print(\"Router invalid format\")  # Print an error message\n",
        "        return \"final_answer\"  # Default to the \"final_answer\" tool"
      ],
      "metadata": {
        "id": "fV3Ljo-5PfTO"
      },
      "execution_count": 115,
      "outputs": []
    },
    {
      "cell_type": "code",
      "source": [
        "tool_str_to_func = {  # Create a dictionary mapping tool names to their corresponding functions\n",
        "    \"rag_search\": rag_search,  # Map \"rag_search\" to the rag_search function\n",
        "    \"web_search\": web_search,  # Map \"web_search\" to the web_search function\n",
        "    \"final_answer\": final_answer  # Map \"final_answer\" to the final_answer function\n",
        "}\n",
        "\n",
        "def run_tool(state: list):\n",
        "    \"\"\"\n",
        "    Executes the specified tool with the given arguments.\n",
        "\n",
        "    This function is responsible for invoking the appropriate tool based on\n",
        "    the agent's current state and the chosen action. It retrieves the tool\n",
        "    name and arguments from the state, executes the tool, and updates the\n",
        "    state with the tool's output.\n",
        "\n",
        "    Args:\n",
        "        state (list): The current state of the agent, containing information\n",
        "            such as the user's input, chat history, and intermediate steps.\n",
        "\n",
        "    Returns:\n",
        "        dict: A dictionary containing the updated intermediate steps,\n",
        "            reflecting the execution of the tool.\n",
        "    \"\"\"\n",
        "    tool_name = state[\"intermediate_steps\"][-1].tool  # Get the name of the tool to execute\n",
        "    tool_args = state[\"intermediate_steps\"][-1].tool_input  # Get the arguments for the tool\n",
        "    print(f\"{tool_name}.invoke(input={tool_args})\")  # Print a message indicating the tool execution\n",
        "    out = tool_str_to_func[tool_name].invoke(input=tool_args)  # Execute the tool using its corresponding function\n",
        "    action_out = AgentAction(  # Create an AgentAction object representing the executed action\n",
        "        tool=tool_name,  # Set the tool name\n",
        "        tool_input=tool_args,  # Set the tool arguments\n",
        "        log=str(out)  # Set the log to the tool's output (converted to string)\n",
        "    )\n",
        "    return {\"intermediate_steps\": [action_out]}  # Return a dictionary containing the updated intermediate steps"
      ],
      "metadata": {
        "id": "jPNqlfJFPgvI"
      },
      "execution_count": 116,
      "outputs": []
    },
    {
      "cell_type": "code",
      "source": [
        "from langgraph.graph import StateGraph, END\n",
        "\n",
        "graph = StateGraph(AgentState)\n",
        "\n",
        "graph.add_node(\"oracle\", run_oracle)\n",
        "graph.add_node(\"rag_search\", run_tool)\n",
        "graph.add_node(\"web_search\", run_tool)\n",
        "graph.add_node(\"final_answer\", run_tool)\n",
        "\n",
        "graph.set_entry_point(\"oracle\")\n",
        "\n",
        "graph.add_conditional_edges(\n",
        "    source=\"oracle\",  # where in graph to start\n",
        "    path=router,  # function to determine which node is called\n",
        ")\n",
        "\n",
        "# create edges from each tool back to the oracle\n",
        "for tool_obj in tools:\n",
        "    if tool_obj.name != \"final_answer\":\n",
        "        graph.add_edge(tool_obj.name, \"oracle\")\n",
        "\n",
        "# if anything goes to final answer, it must then move to END\n",
        "graph.add_edge(\"final_answer\", END)\n",
        "\n",
        "runnable = graph.compile()"
      ],
      "metadata": {
        "id": "Wep4C1uBPspY"
      },
      "execution_count": 117,
      "outputs": []
    },
    {
      "cell_type": "code",
      "source": [
        "# !apt-get install graphviz libgraphviz-dev pkg-config\n",
        "# !pip install pygraphviz==1.12"
      ],
      "metadata": {
        "id": "cmBmHESRQZOC"
      },
      "execution_count": 118,
      "outputs": []
    },
    {
      "cell_type": "code",
      "source": [
        "from IPython.display import Image\n",
        "Image(runnable.get_graph().draw_png())"
      ],
      "metadata": {
        "colab": {
          "base_uri": "https://localhost:8080/",
          "height": 508
        },
        "id": "rEzqUMHoPw4n",
        "outputId": "2c513864-04db-484c-a3e5-0682b338495b"
      },
      "execution_count": 119,
      "outputs": [
        {
          "output_type": "execute_result",
          "data": {
            "image/png": "[encoded data removed]",
            "text/plain": [
              "<IPython.core.display.Image object>"
            ]
          },
          "metadata": {},
          "execution_count": 119
        }
      ]
    },
    {
      "cell_type": "code",
      "source": [
        "out = runnable.invoke({\n",
        "    \"input\": \"How AI-based startups are boosting the INDIAN economy and who is the prime minister of INDIA in 2024?\",\n",
        "    \"chat_history\": []\n",
        "})"
      ],
      "metadata": {
        "colab": {
          "base_uri": "https://localhost:8080/"
        },
        "id": "nGh3_Ia4SEuw",
        "outputId": "c9117234-5431-4a0d-8b35-5961efbd3066",
        "collapsed": true
      },
      "execution_count": 120,
      "outputs": [
        {
          "output_type": "stream",
          "name": "stdout",
          "text": [
            "run_oracle\n",
            "intermediate_steps: []\n",
            "rag_search.invoke(input={'query': 'AI-based startups boosting Indian economy'})\n",
            "run_oracle\n",
            "intermediate_steps: [AgentAction(tool='rag_search', tool_input={'query': 'AI-based startups boosting Indian economy'}, log='TBD'), AgentAction(tool='rag_search', tool_input={'query': 'AI-based startups boosting Indian economy'}, log='[\"4) By 2035, AI -based startups might increase India\\'s GDP by 1 trillion dollars and i ts annual \\\\ngrowth rate by 1.6%. \\\\n5) Analysis of investments in AI -based startups and the growth of AI i n other nations in \\\\ncomparison \\\\nMETHODOLOGY: \\\\nThis paper focuses on 3 major aspects associated with  AI-based startups  in India  with \\\\ndifferent parameters and their investigation using AI techniques. The study further focuses on \\\\nstartups producing AI solutions. Data is collected using different data sources , including market \\\\nreports, white papers, corporate websites, specialized databases, news feeds, journals, and \\\\npublications, a mong others. Integrity checks are conducted on both the investigation and the data. \\\\nRedundant data is eliminated, inconsistent data is located and corrected, and the analysis correctness \\\\nis validated. The information is subsequently prepared for tabulation s utilizing a variety of formats, \\\\nweightings, and visuals.  \\\\nRESULTS AND DISCUSSION: \\\\nIndia has recognized the value of AI for its economic development and is working to \\\\nestablish itself as a global leader in the new and emerging fields of AI [10]. AI has the potential to \\\\nspeed development in India while also finding ways to get over more conventional roadblocks like\", \"www.irjhis.com    ©2023 IRJHIS | Special Issue, February 2022 | ISSN 2582-8568 | Impact Factor 6.865 \\\\nInternational Conference Organized b y V.P. Institute of Management Studies & Research, Sangli \\\\n(Maharashtra, India) “Digital Technology: Its Impact, Challenges and Opportunities” on  25th February 2023 \\\\nIRJHISIC2302049 |   International Research Journal of Humanities and Interdisciplinary Studies (IRJHIS)| 449  \\\\n \\\\n \\\\nFig. 5: Chart showing the number of AI-based startups as of 2022 \\\\nCONCLUSION: \\\\nThis research describes how Artificial I ntelligence-based startups helps in the advancement \\\\nof India. Our initial investigation is that AI -based startups might increase India\\'s GDP  in recent \\\\nyears. Maximum start-ups in the Indian start -up ecosystem are AI -based, and it has improved each \\\\nyear noticeably. India\\'s GDP has since been growing annually. From 2010 onwards, as Indian start -\\\\nups increased, their impact on the nation\\'s GDP was seen.  Investments in AI -based startups have \\\\nincreased significantly in the last  ten years, which has provided the Government  of India with \\\\nsignificant motivation to invest.  This investigation clearly describes  India has the capacity and \\\\nmoving in the right direction to build its AI industry. AI is anticipated soon to  make a major \\\\ncontribution to India\\'s GDP and improve a lot of people\\'s lives. \\\\nREFERENCES: \\\\n1. Lemaire A, Lucazeau R, Rappers T, Westerheide F, Howard C. (2018). Artificial Intelligence \\\\n– A strategy for European startups. Recommendations for policymakers. Roland Berger \\\\nGmBH, 32. \\\\n2. Soni, N., Sharma, E. K., Singh, N., & Kapoor, A. (2020). Artificial Intelligence in Business: \\\\nFrom Research and Innovation to Market Deployment. Procedia Computer Science, 167, \\\\n2200–2210. https://doi.org/10.1016/j.procs.2020.03.272 \\\\n3. National Strategy for Artificial Intelligence. (2018). NITI Ayog, Government of India.\", \\'www.irjhis.com    ©2023 IRJHIS | Special Issue, February 2022 | ISSN 2582-8568 | Impact Factor 6.865 \\\\nInternational Conference Organized b y V.P. Institute of Management Studies & Research, Sangli \\\\n(Maharashtra, India) “Digital Technology: Its Impact, Challenges and Opportunities” on  25th February 2023 \\\\nIRJHISIC2302049 |   International Research Journal of Humanities and Interdisciplinary Studies (IRJHIS)| 447  \\\\n \\\\n \\\\nFig. 2: Chart showing Investment in AI-based startups in India \\\\n3) AI-based startups are boosting the GDP of India, and there is still a lot of room for growth : \\\\nThe usage of AI is rising throughout numerous industries, and some startups are successfully \\\\nutilizing AI techniques for social good in the fields of crime reduction, healthcare, education, \\\\nagriculture, manufacturing, and climate change. These contribute to different sectors of the \\\\nGDP. \\\\nThe following Indian startups are using AI and boosting the Indian economy in several sec tors: \\\\nNiramai- Detecting Breast Cancer , Staqu- AI tackling etc., contributing in the services sector, \\\\nFlutura - Increasing operational effectiveness and asset uptime in the industrial sector , \\\\ncontributing in the manufacturing sector, Intello  labs contributing in the agriculture sector and \\\\nLeverage Edu contributing in the industry sector. \\\\n \\\\nFig. 3: Chart showing Percentage in GDP of India \\\\n2014 2015 2016 2017 2018 2019 2020 2021\\\\nInvestment (In USD \\\\nMillion) 74.8 260 213 113 529.52 762.5 836.3 1,108\\\\n74.8\\\\n260 213\\\\n113\\\\n529.52\\\\n762.5\\\\n836.3\\\\n1,108\\\\n0\\\\n200\\\\n400\\\\n600\\\\n800\\\\n1000\\\\n1200\\\\nInvestment (In USD Million)\\']')]\n",
            "web_search.invoke(input={'query': 'Prime Minister of India in 2024'})\n",
            "run_oracle\n",
            "intermediate_steps: [AgentAction(tool='rag_search', tool_input={'query': 'AI-based startups boosting Indian economy'}, log='TBD'), AgentAction(tool='rag_search', tool_input={'query': 'AI-based startups boosting Indian economy'}, log='[\"4) By 2035, AI -based startups might increase India\\'s GDP by 1 trillion dollars and i ts annual \\\\ngrowth rate by 1.6%. \\\\n5) Analysis of investments in AI -based startups and the growth of AI i n other nations in \\\\ncomparison \\\\nMETHODOLOGY: \\\\nThis paper focuses on 3 major aspects associated with  AI-based startups  in India  with \\\\ndifferent parameters and their investigation using AI techniques. The study further focuses on \\\\nstartups producing AI solutions. Data is collected using different data sources , including market \\\\nreports, white papers, corporate websites, specialized databases, news feeds, journals, and \\\\npublications, a mong others. Integrity checks are conducted on both the investigation and the data. \\\\nRedundant data is eliminated, inconsistent data is located and corrected, and the analysis correctness \\\\nis validated. The information is subsequently prepared for tabulation s utilizing a variety of formats, \\\\nweightings, and visuals.  \\\\nRESULTS AND DISCUSSION: \\\\nIndia has recognized the value of AI for its economic development and is working to \\\\nestablish itself as a global leader in the new and emerging fields of AI [10]. AI has the potential to \\\\nspeed development in India while also finding ways to get over more conventional roadblocks like\", \"www.irjhis.com    ©2023 IRJHIS | Special Issue, February 2022 | ISSN 2582-8568 | Impact Factor 6.865 \\\\nInternational Conference Organized b y V.P. Institute of Management Studies & Research, Sangli \\\\n(Maharashtra, India) “Digital Technology: Its Impact, Challenges and Opportunities” on  25th February 2023 \\\\nIRJHISIC2302049 |   International Research Journal of Humanities and Interdisciplinary Studies (IRJHIS)| 449  \\\\n \\\\n \\\\nFig. 5: Chart showing the number of AI-based startups as of 2022 \\\\nCONCLUSION: \\\\nThis research describes how Artificial I ntelligence-based startups helps in the advancement \\\\nof India. Our initial investigation is that AI -based startups might increase India\\'s GDP  in recent \\\\nyears. Maximum start-ups in the Indian start -up ecosystem are AI -based, and it has improved each \\\\nyear noticeably. India\\'s GDP has since been growing annually. From 2010 onwards, as Indian start -\\\\nups increased, their impact on the nation\\'s GDP was seen.  Investments in AI -based startups have \\\\nincreased significantly in the last  ten years, which has provided the Government  of India with \\\\nsignificant motivation to invest.  This investigation clearly describes  India has the capacity and \\\\nmoving in the right direction to build its AI industry. AI is anticipated soon to  make a major \\\\ncontribution to India\\'s GDP and improve a lot of people\\'s lives. \\\\nREFERENCES: \\\\n1. Lemaire A, Lucazeau R, Rappers T, Westerheide F, Howard C. (2018). Artificial Intelligence \\\\n– A strategy for European startups. Recommendations for policymakers. Roland Berger \\\\nGmBH, 32. \\\\n2. Soni, N., Sharma, E. K., Singh, N., & Kapoor, A. (2020). Artificial Intelligence in Business: \\\\nFrom Research and Innovation to Market Deployment. Procedia Computer Science, 167, \\\\n2200–2210. https://doi.org/10.1016/j.procs.2020.03.272 \\\\n3. National Strategy for Artificial Intelligence. (2018). NITI Ayog, Government of India.\", \\'www.irjhis.com    ©2023 IRJHIS | Special Issue, February 2022 | ISSN 2582-8568 | Impact Factor 6.865 \\\\nInternational Conference Organized b y V.P. Institute of Management Studies & Research, Sangli \\\\n(Maharashtra, India) “Digital Technology: Its Impact, Challenges and Opportunities” on  25th February 2023 \\\\nIRJHISIC2302049 |   International Research Journal of Humanities and Interdisciplinary Studies (IRJHIS)| 447  \\\\n \\\\n \\\\nFig. 2: Chart showing Investment in AI-based startups in India \\\\n3) AI-based startups are boosting the GDP of India, and there is still a lot of room for growth : \\\\nThe usage of AI is rising throughout numerous industries, and some startups are successfully \\\\nutilizing AI techniques for social good in the fields of crime reduction, healthcare, education, \\\\nagriculture, manufacturing, and climate change. These contribute to different sectors of the \\\\nGDP. \\\\nThe following Indian startups are using AI and boosting the Indian economy in several sec tors: \\\\nNiramai- Detecting Breast Cancer , Staqu- AI tackling etc., contributing in the services sector, \\\\nFlutura - Increasing operational effectiveness and asset uptime in the industrial sector , \\\\ncontributing in the manufacturing sector, Intello  labs contributing in the agriculture sector and \\\\nLeverage Edu contributing in the industry sector. \\\\n \\\\nFig. 3: Chart showing Percentage in GDP of India \\\\n2014 2015 2016 2017 2018 2019 2020 2021\\\\nInvestment (In USD \\\\nMillion) 74.8 260 213 113 529.52 762.5 836.3 1,108\\\\n74.8\\\\n260 213\\\\n113\\\\n529.52\\\\n762.5\\\\n836.3\\\\n1,108\\\\n0\\\\n200\\\\n400\\\\n600\\\\n800\\\\n1000\\\\n1200\\\\nInvestment (In USD Million)\\']'), AgentAction(tool='web_search', tool_input={'query': 'Prime Minister of India in 2024'}, log='TBD'), AgentAction(tool='web_search', tool_input={'query': 'Prime Minister of India in 2024'}, log=\"page_content='List of all Prime Ministers of India till 2024: Narendra Modi is the current and 14th Prime Minister of India who assumed office on 10 June 2024. Jawaharlal Nehru is the first and the longest ... 13 Dec, 2024. The Prime Minister, Shri Narendra Modi today inaugurated and launched multiple development projects worth around Rs 5500 crore at Prayagraj,Uttar Pradesh. ... Shri Narendra Modi was sworn-in as India's Prime Minister for the third time on 9th June 2024, following another decisive victory in the 2024 Parliamentary elections. ... General elections were held in India from 19 April to 1 June 2024 in seven phases, to elect all 543 members of the Lok Sabha. [a] Votes were counted and the result was declared on 4 June to form the 18th Lok Sabha.[2] [3] On 7 June 2024, Prime Minister Narendra Modi confirmed the support of 293 MPs to Droupadi Murmu, the president of India. [4]This marked Modi's third term as prime minister ... Narendra Modi, right, is sworn-in as the Prime Minister of India by President Droupadi Murmu, left, at the Rashtrapati Bhawan, in New Delhi, India, Sunday, June 9, 2024. The 73-year-old leader is only the second Indian prime minister to retain power for a third term. (AP Photo/Manish Swarup) Published On 9 Jun 2024 9 Jun 2024 Modi 3.0: India's populist leader takes oath as PM for a rare third term The 73-year-old Hindu nationalist leader has been sworn in for a rare third term and ...'\")]\n",
            "final_answer.invoke(input={'query': 'AI-based startups boosting the INDIAN economy and who is the prime minister of INDIA in 2024', 'steps': \"The user’s question is split into two parts - AI-based startups boosting the INDIAN economy and who is the prime minister of INDIA in 2024. rag_search was used with the query 'AI-based startups boosting Indian economy' and web_search was used with the query 'Prime Minister of India in 2024'\", 'conclusion': \"AI-based startups have contributed to the growth of the Indian economy. The startups are leveraging AI to improve various sectors such as healthcare, education, and agriculture. According to the research paper, the number of AI-based startups in India has increased significantly in recent years, and their impact on the nation's GDP has been noticeable. Additionally, the current Prime Minister of India is Narendra Modi, who was sworn-in for the third time on June 9, 2024.\", 'sources': 'International Research Journal of Humanities and Interdisciplinary Studies (IRJHIS), www.irjhis.com, and DuckDuckGo search results'})\n"
          ]
        }
      ]
    },
    {
      "cell_type": "markdown",
      "source": [
        "'query': 'AI-based startups boosting the INDIAN economy and who is the prime minister of INDIA in 2024',\n",
        "\n",
        "'steps': \"The user’s question is split into two parts - AI-based startups boosting the INDIAN economy and who is the prime minister of INDIA in 2024. rag_search was used with the query 'AI-based startups boosting Indian economy' and web_search was used with the query 'Prime Minister of India in 2024'\",\n",
        "\n",
        "'conclusion': \"AI-based startups have contributed to the growth of the Indian economy. The startups are leveraging AI to improve various sectors such as healthcare, education, and agriculture. According to the research paper, the number of AI-based startups in India has increased significantly in recent years, and their impact on the nation's GDP has been noticeable. Additionally, the current Prime Minister of India is Narendra Modi, who was sworn-in for the third time on June 9, 2024.\",\n",
        "\n",
        "'sources': 'International Research Journal of Humanities and Interdisciplinary Studies (IRJHIS), www.irjhis.com, and DuckDuckGo search results'})\n"
      ],
      "metadata": {
        "id": "rUWmtUAwMThp"
      }
    },
    {
      "cell_type": "code",
      "source": [],
      "metadata": {
        "id": "XPzEZfmLMX5G"
      },
      "execution_count": 120,
      "outputs": []
    }
  ]
}